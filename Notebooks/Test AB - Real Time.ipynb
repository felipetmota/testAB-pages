{
 "cells": [
  {
   "cell_type": "markdown",
   "id": "ff3fd88b",
   "metadata": {},
   "source": [
    "## AB Test - James"
   ]
  },
  {
   "cell_type": "markdown",
   "id": "46424777",
   "metadata": {},
   "source": [
    "## 0.1 Imports"
   ]
  },
  {
   "cell_type": "code",
   "execution_count": 1,
   "id": "f3d393ca",
   "metadata": {
    "ExecuteTime": {
     "end_time": "2022-10-05T17:10:42.865764Z",
     "start_time": "2022-10-05T17:10:38.928190Z"
    }
   },
   "outputs": [],
   "source": [
    "import pandas as pd\n",
    "import math\n",
    "import numpy as np\n",
    "\n",
    "from statsmodels.stats import api as sms"
   ]
  },
  {
   "cell_type": "code",
   "execution_count": null,
   "id": "cff82436",
   "metadata": {},
   "outputs": [],
   "source": []
  },
  {
   "cell_type": "markdown",
   "id": "4ea56c59",
   "metadata": {},
   "source": [
    "## 1.0 Load data"
   ]
  },
  {
   "cell_type": "code",
   "execution_count": 2,
   "id": "76ccba94",
   "metadata": {
    "ExecuteTime": {
     "end_time": "2022-10-05T17:10:43.134077Z",
     "start_time": "2022-10-05T17:10:42.866765Z"
    }
   },
   "outputs": [],
   "source": [
    "#Load the dataset\n",
    "df_raw = pd.read_csv('../data/ab_data.csv')"
   ]
  },
  {
   "cell_type": "code",
   "execution_count": 4,
   "id": "69b7cdc6",
   "metadata": {
    "ExecuteTime": {
     "end_time": "2022-10-05T17:10:43.166078Z",
     "start_time": "2022-10-05T17:10:43.151165Z"
    }
   },
   "outputs": [
    {
     "data": {
      "text/plain": [
       "(294478, 5)"
      ]
     },
     "execution_count": 4,
     "metadata": {},
     "output_type": "execute_result"
    }
   ],
   "source": [
    "#Get the totals of rows and columns\n",
    "df_raw.shape"
   ]
  },
  {
   "cell_type": "code",
   "execution_count": 5,
   "id": "a4a45f37",
   "metadata": {
    "ExecuteTime": {
     "end_time": "2022-10-05T17:10:44.087760Z",
     "start_time": "2022-10-05T17:10:44.059081Z"
    }
   },
   "outputs": [
    {
     "data": {
      "text/html": [
       "<div>\n",
       "<style scoped>\n",
       "    .dataframe tbody tr th:only-of-type {\n",
       "        vertical-align: middle;\n",
       "    }\n",
       "\n",
       "    .dataframe tbody tr th {\n",
       "        vertical-align: top;\n",
       "    }\n",
       "\n",
       "    .dataframe thead th {\n",
       "        text-align: right;\n",
       "    }\n",
       "</style>\n",
       "<table border=\"1\" class=\"dataframe\">\n",
       "  <thead>\n",
       "    <tr style=\"text-align: right;\">\n",
       "      <th></th>\n",
       "      <th>user_id</th>\n",
       "      <th>timestamp</th>\n",
       "      <th>group</th>\n",
       "      <th>landing_page</th>\n",
       "      <th>converted</th>\n",
       "    </tr>\n",
       "  </thead>\n",
       "  <tbody>\n",
       "    <tr>\n",
       "      <th>0</th>\n",
       "      <td>851104</td>\n",
       "      <td>2017-01-21 22:11:48.556739</td>\n",
       "      <td>control</td>\n",
       "      <td>old_page</td>\n",
       "      <td>0</td>\n",
       "    </tr>\n",
       "    <tr>\n",
       "      <th>1</th>\n",
       "      <td>804228</td>\n",
       "      <td>2017-01-12 08:01:45.159739</td>\n",
       "      <td>control</td>\n",
       "      <td>old_page</td>\n",
       "      <td>0</td>\n",
       "    </tr>\n",
       "    <tr>\n",
       "      <th>2</th>\n",
       "      <td>661590</td>\n",
       "      <td>2017-01-11 16:55:06.154213</td>\n",
       "      <td>treatment</td>\n",
       "      <td>new_page</td>\n",
       "      <td>0</td>\n",
       "    </tr>\n",
       "    <tr>\n",
       "      <th>3</th>\n",
       "      <td>853541</td>\n",
       "      <td>2017-01-08 18:28:03.143765</td>\n",
       "      <td>treatment</td>\n",
       "      <td>new_page</td>\n",
       "      <td>0</td>\n",
       "    </tr>\n",
       "    <tr>\n",
       "      <th>4</th>\n",
       "      <td>864975</td>\n",
       "      <td>2017-01-21 01:52:26.210827</td>\n",
       "      <td>control</td>\n",
       "      <td>old_page</td>\n",
       "      <td>1</td>\n",
       "    </tr>\n",
       "  </tbody>\n",
       "</table>\n",
       "</div>"
      ],
      "text/plain": [
       "   user_id                   timestamp      group landing_page  converted\n",
       "0   851104  2017-01-21 22:11:48.556739    control     old_page          0\n",
       "1   804228  2017-01-12 08:01:45.159739    control     old_page          0\n",
       "2   661590  2017-01-11 16:55:06.154213  treatment     new_page          0\n",
       "3   853541  2017-01-08 18:28:03.143765  treatment     new_page          0\n",
       "4   864975  2017-01-21 01:52:26.210827    control     old_page          1"
      ]
     },
     "execution_count": 5,
     "metadata": {},
     "output_type": "execute_result"
    }
   ],
   "source": [
    "#get the sample\n",
    "df_raw.head()"
   ]
  },
  {
   "cell_type": "markdown",
   "id": "bdab7929",
   "metadata": {},
   "source": [
    "## 2.0 - Design of Experiments"
   ]
  },
  {
   "cell_type": "markdown",
   "id": "68ce870f",
   "metadata": {
    "ExecuteTime": {
     "end_time": "2022-10-01T13:28:56.329667Z",
     "start_time": "2022-10-01T13:28:56.322660Z"
    },
    "heading_collapsed": true
   },
   "source": [
    "### 2.1 Create Hyphotese"
   ]
  },
  {
   "cell_type": "code",
   "execution_count": null,
   "id": "c81486ff",
   "metadata": {
    "hidden": true
   },
   "outputs": [],
   "source": []
  },
  {
   "cell_type": "markdown",
   "id": "2ffc7d6e",
   "metadata": {},
   "source": [
    "### 2.2 Parametes of Experiment"
   ]
  },
  {
   "cell_type": "code",
   "execution_count": 6,
   "id": "862bee1a",
   "metadata": {
    "ExecuteTime": {
     "end_time": "2022-10-05T17:10:53.372891Z",
     "start_time": "2022-10-05T17:10:53.358122Z"
    }
   },
   "outputs": [],
   "source": [
    "#Confidence Level\n",
    "confidence_level = 0.95\n",
    "\n",
    "#significance level\n",
    "significance_level = 0.05\n",
    "\n",
    "\n",
    "#conversion of the pages (Actual and New one)\n",
    "\n",
    "#P1 - The actual conversion\n",
    "p1 = 0.13\n",
    "#P2 - The new goal to conversion\n",
    "p2 = 0.15\n",
    "\n",
    "#Size of effect \n",
    "effect_size = sms.proportion_effectsize(p1, p2)\n",
    "# OR\n",
    "# pg.compute.effsize (z, y,  eftype='coken')\n",
    "\n",
    "#statistic power\n",
    "power = 0.80"
   ]
  },
  {
   "cell_type": "code",
   "execution_count": 12,
   "id": "f2188250",
   "metadata": {
    "ExecuteTime": {
     "end_time": "2022-10-03T19:23:43.489740Z",
     "start_time": "2022-10-03T19:23:43.475315Z"
    }
   },
   "outputs": [
    {
     "data": {
      "text/plain": [
       "4720"
      ]
     },
     "execution_count": 12,
     "metadata": {},
     "output_type": "execute_result"
    }
   ],
   "source": [
    "#sample size\n",
    "sample_n = sms.NormalIndPower().solve_power (\n",
    "        effect_size,\n",
    "        power = power,\n",
    "        alpha = significance_level\n",
    ")\n",
    "\n",
    "\n",
    "#round the number and put with INT type.\n",
    "sample_n = math.ceil(sample_n)\n",
    "sample_n"
   ]
  },
  {
   "cell_type": "markdown",
   "id": "5c717a60",
   "metadata": {},
   "source": [
    "## 3.0 - Descriptive Analysis of Data"
   ]
  },
  {
   "cell_type": "code",
   "execution_count": 14,
   "id": "1748563e",
   "metadata": {
    "ExecuteTime": {
     "end_time": "2022-10-05T17:17:03.156701Z",
     "start_time": "2022-10-05T17:17:03.146681Z"
    }
   },
   "outputs": [
    {
     "name": "stdout",
     "output_type": "stream",
     "text": [
      "Number of Rows: 294478\n",
      "Number of Columns: 5\n"
     ]
    }
   ],
   "source": [
    "### 3.1 Number of rows and columns\n",
    "print('Number of Rows: {}'.format( df_raw.shape[0]))\n",
    "print('Number of Columns: {}'.format( df_raw.shape[1]))"
   ]
  },
  {
   "cell_type": "code",
   "execution_count": 13,
   "id": "24ec12fb",
   "metadata": {
    "ExecuteTime": {
     "end_time": "2022-10-05T17:17:02.063444Z",
     "start_time": "2022-10-05T17:17:02.030424Z"
    }
   },
   "outputs": [
    {
     "data": {
      "text/plain": [
       "user_id         0\n",
       "timestamp       0\n",
       "group           0\n",
       "landing_page    0\n",
       "converted       0\n",
       "dtype: int64"
      ]
     },
     "execution_count": 13,
     "metadata": {},
     "output_type": "execute_result"
    }
   ],
   "source": [
    "### 3.2 Check NAs\n",
    "df_raw.isna().sum()"
   ]
  },
  {
   "cell_type": "code",
   "execution_count": 15,
   "id": "7f1af648",
   "metadata": {
    "ExecuteTime": {
     "end_time": "2022-10-05T17:17:41.658908Z",
     "start_time": "2022-10-05T17:17:41.654902Z"
    }
   },
   "outputs": [],
   "source": [
    "### 3.3 Check the flags if the control and treatment data\n",
    "\n"
   ]
  },
  {
   "cell_type": "code",
   "execution_count": null,
   "id": "e8c3b44e",
   "metadata": {},
   "outputs": [],
   "source": []
  }
 ],
 "metadata": {
  "kernelspec": {
   "display_name": "Python 3",
   "language": "python",
   "name": "python3"
  },
  "language_info": {
   "codemirror_mode": {
    "name": "ipython",
    "version": 3
   },
   "file_extension": ".py",
   "mimetype": "text/x-python",
   "name": "python",
   "nbconvert_exporter": "python",
   "pygments_lexer": "ipython3",
   "version": "3.8.8"
  }
 },
 "nbformat": 4,
 "nbformat_minor": 5
}
