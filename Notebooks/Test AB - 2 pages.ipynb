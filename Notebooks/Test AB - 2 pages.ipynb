{
 "cells": [
  {
   "cell_type": "markdown",
   "id": "e6ba7419",
   "metadata": {
    "ExecuteTime": {
     "end_time": "2022-09-30T20:12:32.148169Z",
     "start_time": "2022-09-30T20:12:32.133150Z"
    },
    "hide_input": false
   },
   "source": [
    "## Step 01 - Choosing the method"
   ]
  },
  {
   "cell_type": "markdown",
   "id": "4b3c014d",
   "metadata": {},
   "source": [
    "#### 1.1 - Choose the statics method:\n",
    "Statistical Inference method used to decide if the availabe data are suficient to support an particular hiphotese."
   ]
  },
  {
   "cell_type": "markdown",
   "id": "fcdb3a59",
   "metadata": {},
   "source": [
    "#### 1.2 - A/B Testing\n",
    "Research user experience methodology to explain the statics hypotheses testing to compare two or more versions in just an unique variable to determinate which of variable is more effective."
   ]
  },
  {
   "cell_type": "markdown",
   "id": "bb7c8657",
   "metadata": {
    "heading_collapsed": true
   },
   "source": [
    "## Step 02 - Design of Experiment"
   ]
  },
  {
   "cell_type": "markdown",
   "id": "5cccd5fd",
   "metadata": {
    "heading_collapsed": true
   },
   "source": [
    "## 2.1 - Hyphotese Formulation\n",
    "#### 2.1.1 Definition of Null and Alternative Hypothese \n",
    "- Null Hypothesis = Nothing changed. Everything is the same of the hypotheses began.\n",
    "- Alternative Hypothesis = The idea and motivation to prove the new hypothesis.\n",
    "\n",
    "- One-Tailed Test = When the efect just can be observered in a SINGLE direction\n",
    "-- Ho : p = P0      \n",
    "-- H1 : p > P0\n",
    "\n",
    "- Two-Tailed Test = When the efect just can be observered in a ANY direction\n",
    "-- Ho : p = P0      \n",
    "-- H1 : p <> P0"
   ]
  },
  {
   "cell_type": "code",
   "execution_count": null,
   "id": "bed2465d",
   "metadata": {
    "hidden": true
   },
   "outputs": [],
   "source": []
  },
  {
   "cell_type": "markdown",
   "id": "9356749c",
   "metadata": {},
   "source": [
    "## 2.2 - Definition of test parameters\n",
    "#### 2.2.1 Trust Level\n",
    "- 95% of confident\n",
    "#### 2.2.2 Significance Level (Alpha)\n",
    "- 5% Significance level ( 1 - trust level)\n",
    "#### 2.2.3 Sample size of each group (Control and Treatment group)\n",
    "- Effect Size = Treatment - Control\n",
    "- Statistic Power = 80 % \n",
    "- Significance level = 5%\n",
    "- Power Equation = Put the data and get the size of sample"
   ]
  },
  {
   "cell_type": "markdown",
   "id": "e4271461",
   "metadata": {},
   "source": [
    "## 3.1 - Imports"
   ]
  },
  {
   "cell_type": "code",
   "execution_count": 35,
   "id": "13178c43",
   "metadata": {
    "ExecuteTime": {
     "end_time": "2022-10-01T13:38:45.211711Z",
     "start_time": "2022-10-01T13:38:43.426291Z"
    }
   },
   "outputs": [],
   "source": [
    "import pandas as pd\n",
    "import numpy as np\n",
    "import math\n",
    "\n",
    "from statsmodels.stats import api as sms"
   ]
  },
  {
   "cell_type": "markdown",
   "id": "dcb1202c",
   "metadata": {},
   "source": [
    "## 3.2 - Load Data"
   ]
  },
  {
   "cell_type": "code",
   "execution_count": 15,
   "id": "606eccd6",
   "metadata": {
    "ExecuteTime": {
     "end_time": "2022-10-01T13:26:49.226740Z",
     "start_time": "2022-10-01T13:26:49.011729Z"
    }
   },
   "outputs": [],
   "source": [
    "#import data\n",
    "df_raw = pd.read_csv('../data/ab_data.csv')"
   ]
  },
  {
   "cell_type": "code",
   "execution_count": 13,
   "id": "dfaf0ac6",
   "metadata": {
    "ExecuteTime": {
     "end_time": "2022-10-01T13:26:40.111526Z",
     "start_time": "2022-10-01T13:26:40.102518Z"
    }
   },
   "outputs": [
    {
     "data": {
      "text/plain": [
       "(294478, 5)"
      ]
     },
     "execution_count": 13,
     "metadata": {},
     "output_type": "execute_result"
    }
   ],
   "source": [
    "#Show all rows and columns\n",
    "df_raw.shape"
   ]
  },
  {
   "cell_type": "markdown",
   "id": "bdab7929",
   "metadata": {},
   "source": [
    "## 4.0 - Design of Experiments"
   ]
  },
  {
   "cell_type": "markdown",
   "id": "68ce870f",
   "metadata": {
    "ExecuteTime": {
     "end_time": "2022-10-01T13:28:56.329667Z",
     "start_time": "2022-10-01T13:28:56.322660Z"
    }
   },
   "source": [
    "### 4.1 Create Hyphotese"
   ]
  },
  {
   "cell_type": "code",
   "execution_count": null,
   "id": "c81486ff",
   "metadata": {},
   "outputs": [],
   "source": []
  },
  {
   "cell_type": "markdown",
   "id": "2ffc7d6e",
   "metadata": {},
   "source": [
    "### 4.2 Parametes of Experiment"
   ]
  },
  {
   "cell_type": "code",
   "execution_count": 42,
   "id": "862bee1a",
   "metadata": {
    "ExecuteTime": {
     "end_time": "2022-10-01T13:44:03.582081Z",
     "start_time": "2022-10-01T13:44:03.567067Z"
    }
   },
   "outputs": [],
   "source": [
    "#level of confidence\n",
    "confidence_level = 0.95\n",
    "\n",
    "#significance level\n",
    "significance_level = 0.05\n",
    "\n",
    "\n",
    "#conversion of the pages (Actual and New one)\n",
    "\n",
    "#P1 - The actual conversion page = 13%\n",
    "p1 = 0.13\n",
    "#P2 - The new goal to conversion on the new page = 15%\n",
    "p2 = 0.15\n",
    "\n",
    "#Size of effect\n",
    "effect_size = sms.proportion_effectsize(p1, p2)\n",
    "\n",
    "#statistic power\n",
    "power = 0.80"
   ]
  },
  {
   "cell_type": "code",
   "execution_count": 48,
   "id": "f2188250",
   "metadata": {
    "ExecuteTime": {
     "end_time": "2022-10-01T13:46:29.336272Z",
     "start_time": "2022-10-01T13:46:29.318255Z"
    }
   },
   "outputs": [
    {
     "data": {
      "text/plain": [
       "4720"
      ]
     },
     "execution_count": 48,
     "metadata": {},
     "output_type": "execute_result"
    }
   ],
   "source": [
    "#sample size\n",
    "sample_n = sms.NormalIndPower().solve_power (\n",
    "        effect_size,\n",
    "        power = power,\n",
    "        alpha = significance_level\n",
    ")\n",
    "\n",
    "\n",
    "#round the number and put with INT type.\n",
    "sample_n = math.ceil(sample_n)\n",
    "sample_n"
   ]
  },
  {
   "cell_type": "code",
   "execution_count": 52,
   "id": "617617a8",
   "metadata": {
    "ExecuteTime": {
     "end_time": "2022-10-01T13:49:39.907516Z",
     "start_time": "2022-10-01T13:49:39.894504Z"
    }
   },
   "outputs": [
    {
     "name": "stdout",
     "output_type": "stream",
     "text": [
      "The toal size of the sample need be: 9440\n",
      "The size of the Treatment group sample is: 4720\n",
      "The size of the control group sample is: 4720\n"
     ]
    }
   ],
   "source": [
    "#The sample_n is the total register number for each group.\n",
    "# Detail: The both groups needs be the maxium homogenium and with the same size.\n",
    "\n",
    "print('The toal size of the sample need be: {}'.format(2*sample_n))\n",
    "print('The size of the Treatment group sample is: {}'.format(sample_n))\n",
    "print('The size of the control group sample is: {}'.format(sample_n))"
   ]
  },
  {
   "cell_type": "code",
   "execution_count": 59,
   "id": "8ebd4eec",
   "metadata": {
    "ExecuteTime": {
     "end_time": "2022-10-01T14:01:16.063423Z",
     "start_time": "2022-10-01T14:01:16.045408Z"
    }
   },
   "outputs": [
    {
     "data": {
      "text/plain": [
       "47200"
      ]
     },
     "execution_count": 59,
     "metadata": {},
     "output_type": "execute_result"
    }
   ],
   "source": [
    "# Example to know what do you need to do to get 4720 registers in each sample.\n",
    "\n",
    "# Rate Conversion = 10%\n",
    "# Total Sample = 4720\n",
    "# Total registers send or access do you need = X\n",
    "\n",
    "conversion_rate = 0.10\n",
    "x = sample_n / conversion_rate \n",
    "x = math.ceil(x)\n",
    "x"
   ]
  },
  {
   "cell_type": "code",
   "execution_count": 60,
   "id": "12b0521f",
   "metadata": {
    "ExecuteTime": {
     "end_time": "2022-10-01T14:01:18.758523Z",
     "start_time": "2022-10-01T14:01:18.742382Z"
    }
   },
   "outputs": [
    {
     "name": "stdout",
     "output_type": "stream",
     "text": [
      "The toal size of the sample need be: 94400\n",
      "The size of the Treatment group sample is: 47200\n",
      "The size of the control group sample is: 47200\n"
     ]
    }
   ],
   "source": [
    "# How many registers/acces do you need to do/continue the test\n",
    "\n",
    "print('The toal size of the sample need be: {}'.format(2*x))\n",
    "print('The size of the Treatment group sample is: {}'.format(x))\n",
    "print('The size of the control group sample is: {}'.format(x))"
   ]
  },
  {
   "cell_type": "markdown",
   "id": "83931766",
   "metadata": {},
   "source": [
    "###  ATTENTION"
   ]
  },
  {
   "cell_type": "markdown",
   "id": "7841bbe5",
   "metadata": {
    "ExecuteTime": {
     "end_time": "2022-10-01T14:08:55.028783Z",
     "start_time": "2022-10-01T14:08:55.026780Z"
    }
   },
   "source": [
    " IMPORTANT STEP\n",
    "\n",
    " After you discover the size of the sample, you will be able to know if the test is viable, why?\n",
    "- 1 - Is it possible to get 94k samples?\n",
    "- 2 - I have this total in my base?\n",
    "- 3 - How long I will take the total samples?\n",
    "\n",
    "We can adjust the conversion rate of new page (P2) or change the confidence_level or significance_level or the statistic power, BUT, we need attention because the result can be not confident and/or trust.\n"
   ]
  }
 ],
 "metadata": {
  "kernelspec": {
   "display_name": "Python 3 (ipykernel)",
   "language": "python",
   "name": "python3"
  },
  "language_info": {
   "codemirror_mode": {
    "name": "ipython",
    "version": 3
   },
   "file_extension": ".py",
   "mimetype": "text/x-python",
   "name": "python",
   "nbconvert_exporter": "python",
   "pygments_lexer": "ipython3",
   "version": "3.8.8"
  }
 },
 "nbformat": 4,
 "nbformat_minor": 5
}
