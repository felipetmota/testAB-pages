{
 "cells": [
  {
   "cell_type": "markdown",
   "id": "ff3fd88b",
   "metadata": {},
   "source": [
    "## AB Test - James"
   ]
  },
  {
   "cell_type": "markdown",
   "id": "46424777",
   "metadata": {},
   "source": [
    "## 0.1 Imports"
   ]
  },
  {
   "cell_type": "code",
   "execution_count": 3,
   "id": "f3d393ca",
   "metadata": {
    "ExecuteTime": {
     "end_time": "2022-10-03T19:19:23.465595Z",
     "start_time": "2022-10-03T19:19:21.639754Z"
    }
   },
   "outputs": [],
   "source": [
    "import pandas as pd\n",
    "import math\n",
    "import numpy as np\n",
    "\n",
    "from statsmodels.stats import api as sms"
   ]
  },
  {
   "cell_type": "code",
   "execution_count": null,
   "id": "cff82436",
   "metadata": {},
   "outputs": [],
   "source": []
  },
  {
   "cell_type": "markdown",
   "id": "4ea56c59",
   "metadata": {},
   "source": [
    "## 1.0 Load data"
   ]
  },
  {
   "cell_type": "code",
   "execution_count": 6,
   "id": "76ccba94",
   "metadata": {
    "ExecuteTime": {
     "end_time": "2022-10-03T19:20:41.227069Z",
     "start_time": "2022-10-03T19:20:40.999507Z"
    }
   },
   "outputs": [],
   "source": [
    "#Load the dataset\n",
    "df_raw = pd.read_csv('../data/ab_data.csv')"
   ]
  },
  {
   "cell_type": "code",
   "execution_count": 7,
   "id": "69b7cdc6",
   "metadata": {
    "ExecuteTime": {
     "end_time": "2022-10-03T19:21:01.194183Z",
     "start_time": "2022-10-03T19:21:01.184175Z"
    }
   },
   "outputs": [
    {
     "data": {
      "text/plain": [
       "(294478, 5)"
      ]
     },
     "execution_count": 7,
     "metadata": {},
     "output_type": "execute_result"
    }
   ],
   "source": [
    "#Get the totals of rows and columns\n",
    "df_raw.shape"
   ]
  },
  {
   "cell_type": "code",
   "execution_count": 10,
   "id": "a4a45f37",
   "metadata": {
    "ExecuteTime": {
     "end_time": "2022-10-03T19:21:31.591470Z",
     "start_time": "2022-10-03T19:21:31.574455Z"
    }
   },
   "outputs": [
    {
     "data": {
      "text/html": [
       "<div>\n",
       "<style scoped>\n",
       "    .dataframe tbody tr th:only-of-type {\n",
       "        vertical-align: middle;\n",
       "    }\n",
       "\n",
       "    .dataframe tbody tr th {\n",
       "        vertical-align: top;\n",
       "    }\n",
       "\n",
       "    .dataframe thead th {\n",
       "        text-align: right;\n",
       "    }\n",
       "</style>\n",
       "<table border=\"1\" class=\"dataframe\">\n",
       "  <thead>\n",
       "    <tr style=\"text-align: right;\">\n",
       "      <th></th>\n",
       "      <th>user_id</th>\n",
       "      <th>timestamp</th>\n",
       "      <th>group</th>\n",
       "      <th>landing_page</th>\n",
       "      <th>converted</th>\n",
       "    </tr>\n",
       "  </thead>\n",
       "  <tbody>\n",
       "    <tr>\n",
       "      <th>0</th>\n",
       "      <td>851104</td>\n",
       "      <td>2017-01-21 22:11:48.556739</td>\n",
       "      <td>control</td>\n",
       "      <td>old_page</td>\n",
       "      <td>0</td>\n",
       "    </tr>\n",
       "    <tr>\n",
       "      <th>1</th>\n",
       "      <td>804228</td>\n",
       "      <td>2017-01-12 08:01:45.159739</td>\n",
       "      <td>control</td>\n",
       "      <td>old_page</td>\n",
       "      <td>0</td>\n",
       "    </tr>\n",
       "    <tr>\n",
       "      <th>2</th>\n",
       "      <td>661590</td>\n",
       "      <td>2017-01-11 16:55:06.154213</td>\n",
       "      <td>treatment</td>\n",
       "      <td>new_page</td>\n",
       "      <td>0</td>\n",
       "    </tr>\n",
       "    <tr>\n",
       "      <th>3</th>\n",
       "      <td>853541</td>\n",
       "      <td>2017-01-08 18:28:03.143765</td>\n",
       "      <td>treatment</td>\n",
       "      <td>new_page</td>\n",
       "      <td>0</td>\n",
       "    </tr>\n",
       "    <tr>\n",
       "      <th>4</th>\n",
       "      <td>864975</td>\n",
       "      <td>2017-01-21 01:52:26.210827</td>\n",
       "      <td>control</td>\n",
       "      <td>old_page</td>\n",
       "      <td>1</td>\n",
       "    </tr>\n",
       "  </tbody>\n",
       "</table>\n",
       "</div>"
      ],
      "text/plain": [
       "   user_id                   timestamp      group landing_page  converted\n",
       "0   851104  2017-01-21 22:11:48.556739    control     old_page          0\n",
       "1   804228  2017-01-12 08:01:45.159739    control     old_page          0\n",
       "2   661590  2017-01-11 16:55:06.154213  treatment     new_page          0\n",
       "3   853541  2017-01-08 18:28:03.143765  treatment     new_page          0\n",
       "4   864975  2017-01-21 01:52:26.210827    control     old_page          1"
      ]
     },
     "execution_count": 10,
     "metadata": {},
     "output_type": "execute_result"
    }
   ],
   "source": [
    "#get the sample\n",
    "df_raw.head()"
   ]
  },
  {
   "cell_type": "markdown",
   "id": "bdab7929",
   "metadata": {},
   "source": [
    "## 2.0 - Design of Experiments"
   ]
  },
  {
   "cell_type": "markdown",
   "id": "68ce870f",
   "metadata": {
    "ExecuteTime": {
     "end_time": "2022-10-01T13:28:56.329667Z",
     "start_time": "2022-10-01T13:28:56.322660Z"
    }
   },
   "source": [
    "### 4.1 Create Hyphotese"
   ]
  },
  {
   "cell_type": "code",
   "execution_count": null,
   "id": "c81486ff",
   "metadata": {},
   "outputs": [],
   "source": []
  },
  {
   "cell_type": "markdown",
   "id": "2ffc7d6e",
   "metadata": {},
   "source": [
    "### 4.2 Parametes of Experiment"
   ]
  },
  {
   "cell_type": "code",
   "execution_count": 11,
   "id": "862bee1a",
   "metadata": {
    "ExecuteTime": {
     "end_time": "2022-10-03T19:23:42.634660Z",
     "start_time": "2022-10-03T19:23:42.622649Z"
    }
   },
   "outputs": [],
   "source": [
    "#Confidence Level\n",
    "confidence_level = 0.95\n",
    "\n",
    "#significance level\n",
    "significance_level = 0.05\n",
    "\n",
    "\n",
    "#conversion of the pages (Actual and New one)\n",
    "\n",
    "#P1 - The actual conversion\n",
    "p1 = 0.13\n",
    "#P2 - The new goal to conversion\n",
    "p2 = 0.15\n",
    "\n",
    "#Size of effect \n",
    "effect_size = sms.proportion_effectsize(p1, p2)\n",
    "# OR\n",
    "# pg.compute.effsize (z, y,  eftype='coken')\n",
    "\n",
    "#statistic power\n",
    "power = 0.80"
   ]
  },
  {
   "cell_type": "code",
   "execution_count": 12,
   "id": "f2188250",
   "metadata": {
    "ExecuteTime": {
     "end_time": "2022-10-03T19:23:43.489740Z",
     "start_time": "2022-10-03T19:23:43.475315Z"
    }
   },
   "outputs": [
    {
     "data": {
      "text/plain": [
       "4720"
      ]
     },
     "execution_count": 12,
     "metadata": {},
     "output_type": "execute_result"
    }
   ],
   "source": [
    "#sample size\n",
    "sample_n = sms.NormalIndPower().solve_power (\n",
    "        effect_size,\n",
    "        power = power,\n",
    "        alpha = significance_level\n",
    ")\n",
    "\n",
    "\n",
    "#round the number and put with INT type.\n",
    "sample_n = math.ceil(sample_n)\n",
    "sample_n"
   ]
  },
  {
   "cell_type": "code",
   "execution_count": 13,
   "id": "617617a8",
   "metadata": {
    "ExecuteTime": {
     "end_time": "2022-10-03T19:23:48.341272Z",
     "start_time": "2022-10-03T19:23:48.334267Z"
    }
   },
   "outputs": [
    {
     "name": "stdout",
     "output_type": "stream",
     "text": [
      "The toal size of the sample need be: 9440\n",
      "The size of the Treatment group sample is: 4720\n",
      "The size of the control group sample is: 4720\n"
     ]
    }
   ],
   "source": [
    "#The sample_n is the total register number for each group.\n",
    "# Detail: The both groups needs be the maxium homogenium and with the same size.\n",
    "\n",
    "print('The toal size of the sample need be: {}'.format(2*sample_n))\n",
    "print('The size of the Treatment group sample is: {}'.format(sample_n))\n",
    "print('The size of the control group sample is: {}'.format(sample_n))"
   ]
  }
 ],
 "metadata": {
  "kernelspec": {
   "display_name": "Python 3",
   "language": "python",
   "name": "python3"
  },
  "language_info": {
   "codemirror_mode": {
    "name": "ipython",
    "version": 3
   },
   "file_extension": ".py",
   "mimetype": "text/x-python",
   "name": "python",
   "nbconvert_exporter": "python",
   "pygments_lexer": "ipython3",
   "version": "3.8.8"
  }
 },
 "nbformat": 4,
 "nbformat_minor": 5
}
