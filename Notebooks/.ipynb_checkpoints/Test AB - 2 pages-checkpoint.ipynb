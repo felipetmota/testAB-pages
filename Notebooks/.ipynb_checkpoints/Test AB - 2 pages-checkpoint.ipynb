{
 "cells": [
  {
   "cell_type": "markdown",
   "id": "e6ba7419",
   "metadata": {
    "ExecuteTime": {
     "end_time": "2022-09-30T20:12:32.148169Z",
     "start_time": "2022-09-30T20:12:32.133150Z"
    },
    "hide_input": false
   },
   "source": [
    "## Step 01 - Choosing the method"
   ]
  },
  {
   "cell_type": "markdown",
   "id": "4b3c014d",
   "metadata": {},
   "source": [
    "#### 1.1 - Choose the statics method:\n",
    "Statistical Inference method used to decide if the availabe data are suficient to support an particular hiphotese."
   ]
  },
  {
   "cell_type": "code",
   "execution_count": null,
   "id": "690b6525",
   "metadata": {},
   "outputs": [],
   "source": []
  },
  {
   "cell_type": "markdown",
   "id": "fcdb3a59",
   "metadata": {},
   "source": [
    "#### 1.2 - A/B Testing\n",
    "Research user experience methodology to explain the statics hypotheses testing to compare two or more versions in just an unique variable to determinate which of variable is more effective."
   ]
  },
  {
   "cell_type": "code",
   "execution_count": null,
   "id": "bc200235",
   "metadata": {},
   "outputs": [],
   "source": []
  },
  {
   "cell_type": "markdown",
   "id": "bb7c8657",
   "metadata": {},
   "source": [
    "## Step 02 - Design of Experiment"
   ]
  },
  {
   "cell_type": "markdown",
   "id": "5cccd5fd",
   "metadata": {},
   "source": [
    "## 2.1 - Hyphotese Formulation\n",
    "#### 2.1.1 Definition of Null and Alternative Hypothese \n",
    "- Null Hypothesis = Nothing changed. Everything is the same of the hypotheses began.\n",
    "- Alternative Hypothesis = The idea and motivation to prove the new hypothesis.\n",
    "\n",
    "- One-Tailed Test = When the efect just can be observered in a SINGLE direction\n",
    "-- Ho : p = P0      \n",
    "-- H1 : p > P0\n",
    "\n",
    "- Two-Tailed Test = When the efect just can be observered in a ANY direction\n",
    "-- Ho : p = P0      \n",
    "-- H1 : p <> P0"
   ]
  },
  {
   "cell_type": "code",
   "execution_count": null,
   "id": "bed2465d",
   "metadata": {},
   "outputs": [],
   "source": []
  },
  {
   "cell_type": "markdown",
   "id": "9356749c",
   "metadata": {},
   "source": [
    "## 2.2 - Definition of test parameters\n",
    "#### 2.2.1 Trust Level\n",
    "- 95% of confident\n",
    "#### 2.2.2 Significance Level (Alpha)\n",
    "- 5% Significance level ( 1 - trust level)\n",
    "#### 2.2.3 Sample size of each group (Control and Treatment group)\n",
    "- Effect Size = Treatment - Control\n",
    "- Statistic Power = 80 % \n",
    "- Significance level = 5%\n",
    "- Power Equation = Put the data and get the size of sample"
   ]
  },
  {
   "cell_type": "code",
   "execution_count": null,
   "id": "ded0dc3f",
   "metadata": {},
   "outputs": [],
   "source": []
  }
 ],
 "metadata": {
  "kernelspec": {
   "display_name": "Python 3 (ipykernel)",
   "language": "python",
   "name": "python3"
  },
  "language_info": {
   "codemirror_mode": {
    "name": "ipython",
    "version": 3
   },
   "file_extension": ".py",
   "mimetype": "text/x-python",
   "name": "python",
   "nbconvert_exporter": "python",
   "pygments_lexer": "ipython3",
   "version": "3.8.8"
  }
 },
 "nbformat": 4,
 "nbformat_minor": 5
}
